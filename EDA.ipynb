{
 "cells": [
  {
   "cell_type": "code",
   "execution_count": 2,
   "metadata": {},
   "outputs": [],
   "source": [
    "import seaborn as sns\n",
    "import pandas as pd\n",
    "import numpy as np\n",
    "import matplotlib.pyplot as plt"
   ]
  },
  {
   "cell_type": "code",
   "execution_count": 3,
   "metadata": {},
   "outputs": [
    {
     "name": "stdout",
     "output_type": "stream",
     "text": [
      "         Date         B        G\n",
      "0     9/11/16    621.65      NaN\n",
      "1     9/12/16    609.67  1324.60\n",
      "2     9/13/16    610.92  1323.65\n",
      "3     9/14/16    608.82  1321.75\n",
      "4     9/15/16    610.38  1310.80\n",
      "...       ...       ...      ...\n",
      "1821   9/6/21  51769.06  1821.60\n",
      "1822   9/7/21  52677.40  1802.15\n",
      "1823   9/8/21  46809.17  1786.00\n",
      "1824   9/9/21  46078.38  1788.25\n",
      "1825  9/10/21  46368.69  1794.60\n",
      "\n",
      "[1826 rows x 3 columns]\n"
     ]
    }
   ],
   "source": [
    "# DataLoader\n",
    "G = pd.read_csv('./2022_Problem_C_DATA/LBMA-GOLD.csv')\n",
    "B = pd.read_csv('./2022_Problem_C_DATA/BCHAIN-MKPRU.csv')\n",
    "df = B.join(G.set_index('Date'), on='Date', how='outer')\n",
    "df.head()\n",
    "print(df)"
   ]
  },
  {
   "cell_type": "code",
   "execution_count": 36,
   "metadata": {},
   "outputs": [],
   "source": [
    "def best_strategy(df, init=1000):\n",
    "    B = np.array(df['B']) # Bitcoin\n",
    "    G = np.array(df['G']) # Gold\n",
    "    n = B.size # number of day\n",
    "    pass\n",
    "\n",
    "best_strategy(df)"
   ]
  },
  {
   "cell_type": "code",
   "execution_count": null,
   "metadata": {},
   "outputs": [],
   "source": []
  }
 ],
 "metadata": {
  "interpreter": {
   "hash": "ecf5722fdaf1897a315d257d89d94520bfcaa453217d5becf09b39e73618b0de"
  },
  "kernelspec": {
   "display_name": "Python 3.9.4 ('base')",
   "language": "python",
   "name": "python3"
  },
  "language_info": {
   "codemirror_mode": {
    "name": "ipython",
    "version": 3
   },
   "file_extension": ".py",
   "mimetype": "text/x-python",
   "name": "python",
   "nbconvert_exporter": "python",
   "pygments_lexer": "ipython3",
   "version": "3.8.12"
  },
  "orig_nbformat": 4
 },
 "nbformat": 4,
 "nbformat_minor": 2
}

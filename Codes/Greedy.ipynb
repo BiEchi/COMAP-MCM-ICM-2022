{
 "cells": [
  {
   "cell_type": "code",
   "execution_count": 2,
   "metadata": {},
   "outputs": [],
   "source": [
    "import seaborn as sns\n",
    "import pandas as pd\n",
    "import numpy as np\n",
    "import matplotlib.pyplot as plt"
   ]
  },
  {
   "cell_type": "code",
   "execution_count": 26,
   "metadata": {},
   "outputs": [],
   "source": [
    "# DataLoader\n",
    "G = np.load('./plot_data/GOLD.npz')\n",
    "B = np.load('./plot_data/BITCOIN.npz')\n",
    "\n",
    "\n",
    "BP = B['P']\n",
    "BG = B['G']\n",
    "GP = np.resize(G['P'],BP.shape)\n",
    "GG = np.resize(G['G'],BG.shape)"
   ]
  },
  {
   "cell_type": "code",
   "execution_count": 61,
   "metadata": {},
   "outputs": [
    {
     "data": {
      "text/plain": [
       "<AxesSubplot:>"
      ]
     },
     "execution_count": 61,
     "metadata": {},
     "output_type": "execute_result"
    },
    {
     "data": {
      "image/png": "[encoded data removed]",
      "text/plain": [
       "<Figure size 432x288 with 1 Axes>"
      ]
     },
     "metadata": {
      "needs_background": "light"
     },
     "output_type": "display_data"
    }
   ],
   "source": [
    "alpha_B = 0.02\n",
    "alpha_G = 0.01\n",
    "GPr = GP[1:]/GP[:-1] - alpha_G\n",
    "GGr = GG[1:]/GG[:-1] - alpha_G\n",
    "BPr = BP[1:]/BP[:-1] - alpha_B\n",
    "BGr = BG[1:]/BG[:-1] - alpha_B\n",
    "C = np.ones_like(GPr)\n",
    "\n",
    "oprs = np.argmax([GPr, BPr, C],axis=0)\n",
    "GT = np.array([GPr, BPr, C])\n",
    "money = 1000\n",
    "his = list()\n",
    "for i, opr in enumerate(oprs):\n",
    "    his.append(money)\n",
    "    money *= GT[opr][i]\n",
    "\n",
    "sns.lineplot(data=his)"
   ]
  },
  {
   "cell_type": "code",
   "execution_count": null,
   "metadata": {},
   "outputs": [],
   "source": []
  }
 ],
 "metadata": {
  "interpreter": {
   "hash": "d30f2eae29d172888ee9c1ee28f70a4e8225fd9a8a138830c03a950ad069ae1c"
  },
  "kernelspec": {
   "display_name": "Python 3.8.12 ('data')",
   "language": "python",
   "name": "python3"
  },
  "language_info": {
   "codemirror_mode": {
    "name": "ipython",
    "version": 3
   },
   "file_extension": ".py",
   "mimetype": "text/x-python",
   "name": "python",
   "nbconvert_exporter": "python",
   "pygments_lexer": "ipython3",
   "version": "3.8.12"
  },
  "orig_nbformat": 4
 },
 "nbformat": 4,
 "nbformat_minor": 2
}

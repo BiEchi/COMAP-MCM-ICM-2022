{
  "cells": [
    {
      "cell_type": "markdown",
      "metadata": {
        "colab_type": "text",
        "id": "xSItPJipBaZ5"
      },
      "source": [
        "## Library"
      ]
    },
    {
      "cell_type": "code",
      "execution_count": 32,
      "metadata": {
        "colab": {},
        "colab_type": "code",
        "id": "wb-Z7wNKUJko"
      },
      "outputs": [],
      "source": [
        "import numpy as np\n",
        "import matplotlib.pyplot as plt\n",
        "import pandas as pd\n",
        "import torch\n",
        "import torch.nn as nn\n",
        "from torch.autograd import Variable\n",
        "from sklearn.preprocessing import MinMaxScaler"
      ]
    },
    {
      "cell_type": "markdown",
      "metadata": {
        "colab_type": "text",
        "id": "e31mswiSBEEB"
      },
      "source": [
        "## Data Plot"
      ]
    },
    {
      "cell_type": "code",
      "execution_count": 33,
      "metadata": {
        "colab": {
          "base_uri": "https://localhost:8080/",
          "height": 269
        },
        "colab_type": "code",
        "id": "ooQPXSYhA_ps",
        "outputId": "5b7b33c9-a80c-429d-f8a5-5c8c79261b54"
      },
      "outputs": [
        {
          "data": {
            "image/png": "[encoded data removed]",
            "text/plain": [
              "<Figure size 432x288 with 1 Axes>"
            ]
          },
          "metadata": {
            "needs_background": "light"
          },
          "output_type": "display_data"
        }
      ],
      "source": [
        "training_set = pd.read_csv('../2022_Problem_C_DATA/BCHAIN-MKPRU.csv')\n",
        "# training_set = pd.read_csv('../2022_Problem_C_DATA/LBMA-GOLD.csv')\n",
        "\n",
        "training_set = training_set.iloc[:,1:2].values\n",
        "\n",
        "plt.plot(training_set)\n",
        "plt.show()"
      ]
    },
    {
      "cell_type": "markdown",
      "metadata": {
        "colab_type": "text",
        "id": "NabsV8O5BBd5"
      },
      "source": [
        "## Dataloading"
      ]
    },
    {
      "cell_type": "code",
      "execution_count": 34,
      "metadata": {
        "colab": {},
        "colab_type": "code",
        "id": "vIWvJCpOVmwU"
      },
      "outputs": [],
      "source": [
        "def sliding_windows(data, seq_length):\n",
        "    x = []\n",
        "    y = []\n",
        "\n",
        "    for i in range(len(data)-seq_length-1):\n",
        "        _x = data[i:(i+seq_length)]\n",
        "        _y = data[i+seq_length]\n",
        "        x.append(_x)\n",
        "        y.append(_y)\n",
        "\n",
        "    return np.array(x),np.array(y)\n",
        "\n",
        "sc = MinMaxScaler()\n",
        "training_data = sc.fit_transform(training_set)\n",
        "\n",
        "seq_length = 4\n",
        "x, y = sliding_windows(training_data, seq_length)\n",
        "\n",
        "ratio = 1\n",
        "train_size = int(len(y) * ratio)\n",
        "test_size = len(y) - train_size\n",
        "\n",
        "dataX = Variable(torch.Tensor(np.array(x)))\n",
        "dataY = Variable(torch.Tensor(np.array(y)))\n",
        "\n",
        "trainX = Variable(torch.Tensor(np.array(x[0:train_size])))\n",
        "trainY = Variable(torch.Tensor(np.array(y[0:train_size])))\n",
        "\n",
        "testX = Variable(torch.Tensor(np.array(x[train_size:len(x)])))\n",
        "testY = Variable(torch.Tensor(np.array(y[train_size:len(y)])))"
      ]
    },
    {
      "cell_type": "markdown",
      "metadata": {
        "colab_type": "text",
        "id": "--1LVbHOBSIy"
      },
      "source": [
        "## Model"
      ]
    },
    {
      "cell_type": "code",
      "execution_count": 35,
      "metadata": {
        "colab": {},
        "colab_type": "code",
        "id": "_BcDEjcABRVz"
      },
      "outputs": [],
      "source": [
        "class LSTM(nn.Module):\n",
        "\n",
        "    def __init__(self, num_classes, input_size, hidden_size, num_layers):\n",
        "        super(LSTM, self).__init__()\n",
        "        \n",
        "        self.num_classes = num_classes\n",
        "        self.num_layers = num_layers\n",
        "        self.input_size = input_size\n",
        "        self.hidden_size = hidden_size\n",
        "        self.seq_length = seq_length\n",
        "        \n",
        "        self.lstm = nn.LSTM(input_size=input_size, hidden_size=hidden_size,\n",
        "                            num_layers=num_layers, batch_first=True)\n",
        "        \n",
        "        self.fc = nn.Linear(hidden_size, num_classes)\n",
        "\n",
        "    def forward(self, x):\n",
        "        h_0 = Variable(torch.zeros(\n",
        "            self.num_layers, x.size(0), self.hidden_size))\n",
        "        \n",
        "        c_0 = Variable(torch.zeros(\n",
        "            self.num_layers, x.size(0), self.hidden_size))\n",
        "        \n",
        "        # Propagate input through LSTM\n",
        "        ula, (h_out, _) = self.lstm(x, (h_0, c_0))\n",
        "        \n",
        "        h_out = h_out.view(-1, self.hidden_size)\n",
        "        \n",
        "        out = self.fc(h_out)\n",
        "        \n",
        "        return out"
      ]
    },
    {
      "cell_type": "markdown",
      "metadata": {
        "colab_type": "text",
        "id": "tdzFI5GJBUF5"
      },
      "source": [
        "## Training"
      ]
    },
    {
      "cell_type": "code",
      "execution_count": 55,
      "metadata": {},
      "outputs": [
        {
          "name": "stdout",
          "output_type": "stream",
          "text": [
            "10  loss: 0.00000\n",
            "20  loss: 0.00000\n",
            "30  loss: 0.00000\n",
            "40  loss: 0.00000\n",
            "50  loss: 0.00000\n",
            "60  loss: 0.00000\n",
            "70  loss: 0.00000\n",
            "80  loss: 0.00000\n",
            "90  loss: 0.00000\n",
            "100  loss: 0.00000\n",
            "110  loss: 0.00000\n",
            "120  loss: 0.00000\n",
            "130  loss: 0.00000\n",
            "140  loss: 0.00001\n",
            "150  loss: 0.00001\n",
            "160  loss: 0.00001\n",
            "170  loss: 0.00001\n",
            "180  loss: 0.00000\n",
            "190  loss: 0.00001\n",
            "200  loss: 0.00001\n",
            "210  loss: 0.00001\n",
            "220  loss: 0.00001\n",
            "230  loss: 0.00001\n",
            "240  loss: 0.00002\n",
            "250  loss: 0.00002\n",
            "260  loss: 0.00003\n",
            "270  loss: 0.00006\n",
            "280  loss: 0.00005\n",
            "290  loss: 0.00005\n",
            "300  loss: 0.00002\n",
            "310  loss: 0.00015\n",
            "320  loss: 0.00009\n",
            "330  loss: 0.00000\n",
            "340  loss: 0.00000\n",
            "350  loss: 0.00012\n",
            "360  loss: 0.00023\n",
            "370  loss: 0.00013\n",
            "380  loss: 0.00000\n",
            "390  loss: 0.00024\n",
            "400  loss: 0.00000\n",
            "410  loss: 0.00019\n",
            "420  loss: 0.00016\n",
            "430  loss: 0.00056\n",
            "440  loss: 0.00054\n",
            "450  loss: 0.00060\n",
            "460  loss: 0.00003\n",
            "470  loss: 0.00034\n",
            "480  loss: 0.00017\n",
            "490  loss: 0.00005\n",
            "500  loss: 0.00006\n",
            "510  loss: 0.00044\n",
            "520  loss: 0.00007\n",
            "530  loss: 0.00010\n",
            "540  loss: 0.00008\n",
            "550  loss: 0.00008\n",
            "560  loss: 0.00007\n",
            "570  loss: 0.00007\n",
            "580  loss: 0.00006\n",
            "590  loss: 0.00007\n",
            "600  loss: 0.00006\n",
            "610  loss: 0.00008\n",
            "620  loss: 0.00006\n",
            "630  loss: 0.00026\n",
            "640  loss: 0.00105\n",
            "650  loss: 0.00051\n",
            "660  loss: 0.00008\n",
            "670  loss: 0.00024\n",
            "680  loss: 0.00005\n",
            "690  loss: 0.00022\n",
            "700  loss: 0.00005\n",
            "710  loss: 0.00017\n",
            "720  loss: 0.00007\n",
            "730  loss: 0.00006\n",
            "740  loss: 0.00005\n",
            "750  loss: 0.00150\n",
            "760  loss: 0.00006\n",
            "770  loss: 0.00068\n",
            "780  loss: 0.00009\n",
            "790  loss: 0.00006\n",
            "800  loss: 0.00005\n",
            "810  loss: 0.00006\n",
            "820  loss: 0.00255\n",
            "830  loss: 0.00004\n",
            "840  loss: 0.00007\n",
            "850  loss: 0.00043\n",
            "860  loss: 0.00005\n",
            "870  loss: 0.00019\n",
            "880  loss: 0.00005\n",
            "890  loss: 0.00004\n",
            "900  loss: 0.00047\n",
            "910  loss: 0.00097\n",
            "920  loss: 0.00005\n",
            "930  loss: 0.00168\n",
            "940  loss: 0.00006\n",
            "950  loss: 0.00005\n",
            "960  loss: 0.00077\n",
            "970  loss: 0.00076\n",
            "980  loss: 0.00005\n",
            "990  loss: 0.00110\n",
            "1000  loss: 0.00006\n",
            "1010  loss: 0.00280\n",
            "1020  loss: 0.00004\n",
            "1030  loss: 0.00015\n",
            "1040  loss: 0.00252\n",
            "1050  loss: 0.00153\n",
            "1060  loss: 0.00288\n",
            "1070  loss: 0.00006\n",
            "1080  loss: 0.00005\n",
            "1090  loss: 0.00005\n",
            "1100  loss: 0.00005\n",
            "1110  loss: 0.00124\n",
            "1120  loss: 0.00005\n",
            "1130  loss: 0.00005\n",
            "1140  loss: 0.00005\n",
            "1150  loss: 0.00007\n",
            "1160  loss: 0.00158\n",
            "1170  loss: 0.00006\n",
            "1180  loss: 0.00051\n",
            "1190  loss: 0.00142\n",
            "1200  loss: 0.00313\n",
            "1210  loss: 0.00009\n",
            "1220  loss: 0.00005\n",
            "1230  loss: 0.00006\n",
            "1240  loss: 0.00230\n",
            "1250  loss: 0.00005\n",
            "1260  loss: 0.00005\n",
            "1270  loss: 0.00005\n",
            "1280  loss: 0.00008\n",
            "1290  loss: 0.00023\n",
            "1300  loss: 0.00005\n",
            "1310  loss: 0.00257\n",
            "1320  loss: 0.00004\n",
            "1330  loss: 0.00102\n",
            "1340  loss: 0.00006\n",
            "1350  loss: 0.00101\n",
            "1360  loss: 0.00006\n",
            "1370  loss: 0.00023\n",
            "1380  loss: 0.00056\n",
            "1390  loss: 0.00005\n",
            "1400  loss: 0.00057\n",
            "1410  loss: 0.00016\n",
            "1420  loss: 0.00228\n",
            "1430  loss: 0.00005\n",
            "1440  loss: 0.00005\n",
            "1450  loss: 0.00006\n",
            "1460  loss: 0.00004\n",
            "1470  loss: 0.00004\n",
            "1480  loss: 0.00005\n",
            "1490  loss: 0.00005\n",
            "1500  loss: 0.00006\n",
            "1510  loss: 0.00024\n",
            "1520  loss: 0.00005\n",
            "1530  loss: 0.00005\n",
            "1540  loss: 0.00041\n",
            "1550  loss: 0.00183\n",
            "1560  loss: 0.00005\n",
            "1570  loss: 0.00344\n",
            "1580  loss: 0.00009\n",
            "1590  loss: 0.00013\n",
            "1600  loss: 0.00019\n",
            "1610  loss: 0.00122\n",
            "1620  loss: 0.00009\n",
            "1630  loss: 0.00011\n",
            "1640  loss: 0.00018\n",
            "1650  loss: 0.00017\n",
            "1660  loss: 0.01614\n",
            "1670  loss: 0.00028\n",
            "1680  loss: 0.00015\n",
            "1690  loss: 0.00021\n",
            "1700  loss: 0.00032\n",
            "1710  loss: 0.00022\n",
            "1720  loss: 0.00033\n",
            "1730  loss: 0.00033\n",
            "1740  loss: 0.00043\n",
            "1750  loss: 0.00038\n",
            "1760  loss: 0.00050\n",
            "1770  loss: 0.00034\n",
            "1780  loss: 0.00033\n",
            "1790  loss: 0.00041\n",
            "1800  loss: 0.00030\n",
            "1810  loss: 0.00063\n",
            "1820  loss: 0.00029\n"
          ]
        }
      ],
      "source": [
        "criterion = torch.nn.MSELoss()\n",
        "pred = torch.zeros((train_size, 1))\n",
        "\n",
        "for day in range(1, train_size):\n",
        "    trainX = Variable(torch.Tensor(np.array(x[0:day])))\n",
        "    trainY = Variable(torch.Tensor(np.array(y[0:day])))\n",
        "    lstm = LSTM(1, 1, 3, 1)\n",
        "    lstm.train()\n",
        "    optimizer = torch.optim.Adam(lstm.parameters(), lr=0.01)\n",
        "    for epoch in range(200):\n",
        "        outputs = lstm(trainX)\n",
        "        optimizer.zero_grad()\n",
        "        \n",
        "        # obtain the loss function\n",
        "        loss = criterion(outputs, trainY)\n",
        "        loss.backward()\n",
        "        optimizer.step()\n",
        "    if day % 10 == 0:\n",
        "        print(day, \" loss: %1.5f\" % (loss.item()))\n",
        "    lstm.eval()\n",
        "    predX = lstm(trainX)\n",
        "    pred[day] = predX[-1,0]"
      ]
    },
    {
      "cell_type": "code",
      "execution_count": 61,
      "metadata": {},
      "outputs": [
        {
          "data": {
            "text/plain": [
              "[<matplotlib.lines.Line2D at 0x23bffd51400>]"
            ]
          },
          "execution_count": 61,
          "metadata": {},
          "output_type": "execute_result"
        },
        {
          "data": {
            "image/png": "[encoded data removed]",
            "text/plain": [
              "<Figure size 432x288 with 1 Axes>"
            ]
          },
          "metadata": {
            "needs_background": "light"
          },
          "output_type": "display_data"
        }
      ],
      "source": [
        "dataY_plot = dataY.data.numpy()\n",
        "data_predict = pred.detach().numpy()\n",
        "data_predict = sc.inverse_transform(data_predict)\n",
        "dataY_plot = sc.inverse_transform(dataY_plot)\n",
        "plt.plot(dataY_plot)\n",
        "plt.plot(data_predict)\n",
        "np.savez('BITCOIN_LSTM.npz', Pred=data_predict, GT = dataY_plot)"
      ]
    },
    {
      "cell_type": "code",
      "execution_count": 38,
      "metadata": {
        "colab": {
          "base_uri": "https://localhost:8080/",
          "height": 357
        },
        "colab_type": "code",
        "id": "a2vvHeFgVtCp",
        "outputId": "5fa2cd4c-dcc4-41aa-d7bc-cb16154ff134"
      },
      "outputs": [
        {
          "name": "stdout",
          "output_type": "stream",
          "text": [
            "Epoch: 0, loss: 0.04811\n",
            "Epoch: 100, loss: 0.00051\n",
            "Epoch: 200, loss: 0.00030\n",
            "Epoch: 300, loss: 0.00025\n",
            "Epoch: 400, loss: 0.00024\n",
            "Epoch: 500, loss: 0.00023\n",
            "Epoch: 600, loss: 0.00022\n",
            "Epoch: 700, loss: 0.00021\n",
            "Epoch: 800, loss: 0.00020\n",
            "Epoch: 900, loss: 0.00021\n"
          ]
        }
      ],
      "source": [
        "num_epochs = 1000\n",
        "learning_rate = 0.01\n",
        "\n",
        "input_size = 1\n",
        "hidden_size = 3\n",
        "num_layers = 1\n",
        "\n",
        "num_classes = 1\n",
        "\n",
        "lstm = LSTM(num_classes, input_size, hidden_size, num_layers)\n",
        "\n",
        "criterion = torch.nn.MSELoss()    # mean-squared error for regression\n",
        "optimizer = torch.optim.Adam(lstm.parameters(), lr=learning_rate)\n",
        "#optimizer = torch.optim.SGD(lstm.parameters(), lr=learning_rate)\n",
        "\n",
        "# Train the model\n",
        "for epoch in range(num_epochs):\n",
        "    outputs = lstm(trainX)\n",
        "    optimizer.zero_grad()\n",
        "    \n",
        "    # obtain the loss function\n",
        "    loss = criterion(outputs, trainY)\n",
        "    \n",
        "    loss.backward()\n",
        "    \n",
        "    optimizer.step()\n",
        "    if epoch % 100 == 0:\n",
        "      print(\"Epoch: %d, loss: %1.5f\" % (epoch, loss.item()))"
      ]
    },
    {
      "cell_type": "markdown",
      "metadata": {
        "colab_type": "text",
        "id": "GyJ-Ry9_BWvP"
      },
      "source": [
        "## Testing"
      ]
    },
    {
      "cell_type": "code",
      "execution_count": 39,
      "metadata": {
        "colab": {
          "base_uri": "https://localhost:8080/",
          "height": 294
        },
        "colab_type": "code",
        "id": "jFrPVG5sesWY",
        "outputId": "080fecbc-7cec-496d-e753-01371109f123"
      },
      "outputs": [
        {
          "data": {
            "image/png": "[encoded data removed]",
            "text/plain": [
              "<Figure size 432x288 with 1 Axes>"
            ]
          },
          "metadata": {
            "needs_background": "light"
          },
          "output_type": "display_data"
        }
      ],
      "source": [
        "lstm.eval()\n",
        "train_predict = lstm(dataX)\n",
        "\n",
        "data_predict = train_predict.data.numpy()\n",
        "dataY_plot = dataY.data.numpy()\n",
        "\n",
        "data_predict = sc.inverse_transform(data_predict)\n",
        "dataY_plot = sc.inverse_transform(dataY_plot)\n",
        "\n",
        "plt.axvline(x=train_size, c='r', linestyle='--')\n",
        "\n",
        "plt.plot(dataY_plot)\n",
        "plt.plot(data_predict)\n",
        "plt.suptitle('Time-Series Prediction')\n",
        "plt.show()"
      ]
    },
    {
      "cell_type": "code",
      "execution_count": null,
      "metadata": {},
      "outputs": [],
      "source": []
    },
    {
      "cell_type": "code",
      "execution_count": null,
      "metadata": {},
      "outputs": [],
      "source": []
    }
  ],
  "metadata": {
    "accelerator": "GPU",
    "colab": {
      "include_colab_link": true,
      "name": "Time Series Prediction with LSTM Using PyTorch",
      "provenance": [],
      "toc_visible": true,
      "version": "0.3.2"
    },
    "kernelspec": {
      "display_name": "Python 3",
      "name": "python3"
    },
    "language_info": {
      "codemirror_mode": {
        "name": "ipython",
        "version": 3
      },
      "file_extension": ".py",
      "mimetype": "text/x-python",
      "name": "python",
      "nbconvert_exporter": "python",
      "pygments_lexer": "ipython3",
      "version": "3.8.10"
    }
  },
  "nbformat": 4,
  "nbformat_minor": 0
}

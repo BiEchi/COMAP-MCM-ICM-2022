{
 "cells": [
  {
   "cell_type": "code",
   "execution_count": null,
   "metadata": {},
   "outputs": [],
   "source": [
    "# This file is to plot our final results"
   ]
  },
  {
   "cell_type": "code",
   "execution_count": null,
   "metadata": {},
   "outputs": [],
   "source": [
    "import numpy as np\n",
    "import seaborn as sns\n",
    "import pandas as pd\n",
    "import matplotlib.pyplot as plt\n",
    "\n",
    "plt.figure(figsize=(20, 5)) \n",
    "sns.set(style='whitegrid')\n",
    "\n",
    "df = pd.read_csv('DATA.csv')\n",
    "df.head()"
   ]
  },
  {
   "cell_type": "code",
   "execution_count": null,
   "metadata": {},
   "outputs": [],
   "source": [
    "def value_computation(name, alpha_b=0.02, alpha_g=0.01 ,data=df):\n",
    "    # enter your col name, alpha_b = 0.02, alpha_g = 0.01 for example\n",
    "    # n_b n_g is the number of bitcoin and gol\n",
    "    n_b = np.array(df[name+'b'])\n",
    "    n_g = np.array(df[name+'g'])\n",
    "    \n",
    "    GP = np.array(df['Gold_Prediction'])\n",
    "    GG = np.array(df['Gold_GroundTruth'])\n",
    "    BP = np.array(df['BITCOIN_Prediction'])\n",
    "    BG = np.array(df['BITCOIN_GroundTruth'])\n",
    "    n = GG.shape[0]\n",
    "    \n",
    "    # Weight for Prediction\n",
    "    value_P = np.zeros((n, 1))\n",
    "    value_P[0] = 1000\n",
    "    for day in range(1,n):\n",
    "        pass\n",
    "    \n",
    "    # Weight for Ground Truth\n",
    "    value_G = np.zeros((n, 1))\n",
    "    value_G[0] = 1000\n",
    "    for day in range(1,n):\n",
    "        pass\n",
    "    \n",
    "    return value_P, value_G"
   ]
  },
  {
   "cell_type": "code",
   "execution_count": null,
   "metadata": {},
   "outputs": [],
   "source": [
    "def weight_plot(name, P, data=df):\n",
    "    n_b = np.array(df[name+'b'])\n",
    "    n_g = np.array(df[name+'g'])\n",
    "    GG = np.array(df['Gold_GroundTruth'])\n",
    "    BG = np.array(df['BITCOIN_GroundTruth'])\n",
    "    \n",
    "    w_b = BG * n_b / P\n",
    "    w_g = GG * n_g / P\n",
    "    w_c = 1 - w_b - w_g\n",
    "    \n",
    "    sns.lineplot(data=[w_c,w_b,w_g])\n",
    "    plt.xlabel('Day')\n",
    "    plt.ylabel('Weight')\n",
    "    plt.show()\n",
    "    plt.savefig('../img/'+name+'W.png')\n",
    "\n",
    "def value_plot(name, P):\n",
    "    sns.lineplot(data=P,color='black')\n",
    "    plt.xlabel('Day')\n",
    "    plt.ylabel('Value [$]')\n",
    "    plt.show()\n",
    "    plt.savefig('../img/'+name+'P.png')\n",
    "    \n",
    "def ratio_plot(name, P, G):\n",
    "    rP = P[1:]/P[:-1]\n",
    "    rG = G[1:]/P[:-1]\n",
    "    sns.lineplot(data=[rP,rG])\n",
    "    plt.xlabel('Day')\n",
    "    plt.ylabel('Ratio')\n",
    "    plt.show()\n",
    "    plt.savefig('../img/'+name+'R.png')"
   ]
  },
  {
   "cell_type": "code",
   "execution_count": null,
   "metadata": {},
   "outputs": [],
   "source": [
    "name = ''\n",
    "\n",
    "P, G = value_computation(name)\n",
    "weight_plot(name, P)\n",
    "value_plot(name, P)\n",
    "ratio_plot(name, P, G)"
   ]
  },
  {
   "cell_type": "code",
   "execution_count": null,
   "metadata": {},
   "outputs": [],
   "source": []
  }
 ],
 "metadata": {
  "interpreter": {
   "hash": "d30f2eae29d172888ee9c1ee28f70a4e8225fd9a8a138830c03a950ad069ae1c"
  },
  "kernelspec": {
   "display_name": "Python 3.8.12 ('data')",
   "language": "python",
   "name": "python3"
  },
  "language_info": {
   "codemirror_mode": {
    "name": "ipython",
    "version": 3
   },
   "file_extension": ".py",
   "mimetype": "text/x-python",
   "name": "python",
   "nbconvert_exporter": "python",
   "pygments_lexer": "ipython3",
   "version": "3.8.12"
  },
  "orig_nbformat": 4
 },
 "nbformat": 4,
 "nbformat_minor": 2
}
